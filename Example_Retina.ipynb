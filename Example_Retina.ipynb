{
 "cells": [
  {
   "cell_type": "code",
   "execution_count": null,
   "id": "a891735c",
   "metadata": {},
   "outputs": [
    {
     "data": {
      "text/latex": [
       "$$ \\begin{align*}\n",
       "\\varnothing &\\xrightarrow{\\mu} \\mathrm{Sci} \\\\\n",
       "\\varnothing &\\xrightarrow{\\varphi} \\mathrm{Sci1} \\\\\n",
       "\\varnothing &\\xrightarrow{\\beta} \\mathrm{Sci2} \\\\\n",
       "\\mathrm{Ce} &\\xrightarrow{\\theta} \\mathrm{Ce} + \\mathrm{C} \\\\\n",
       "\\mathrm{Ce1} &\\xrightarrow{\\lambda} \\mathrm{Ce1} + \\mathrm{C1} \\\\\n",
       "\\mathrm{Ce2} &\\xrightarrow{\\kappa} \\mathrm{Ce2} + \\mathrm{C2} \\\\\n",
       "\\mathrm{Sci} + \\mathrm{C} &\\xrightarrow{\\eta} \\varnothing \\\\\n",
       "\\mathrm{Sci1} + \\mathrm{C1} &\\xrightarrow{\\psi} \\varnothing \\\\\n",
       "\\mathrm{Sci2} + \\mathrm{C2} &\\xrightarrow{\\varepsilon} \\varnothing \\\\\n",
       "\\mathrm{Sci} &\\xrightarrow{k1} \\mathrm{Sci} + \\mathrm{Sr} + \\mathrm{Sh} + \\mathrm{Sp} + \\mathrm{Sb} \\\\\n",
       "\\mathrm{Sci1} &\\xrightarrow{p1} \\mathrm{Sci1} + \\mathrm{Sb1} + \\mathrm{Sh1} \\\\\n",
       "\\mathrm{Sci2} &\\xrightarrow{p26} \\mathrm{Sci2} + \\mathrm{Sh2} + \\mathrm{Sr2} + \\mathrm{Sp2} \\\\\n",
       "\\mathrm{Sr} &\\xrightarrow{k17} \\mathrm{Sr} + \\mathrm{R} \\\\\n",
       "\\mathrm{Sr2} &\\xrightarrow{p33} \\mathrm{Sr2} + \\mathrm{R2} \\\\\n",
       "\\mathrm{Sh} &\\xrightarrow{k18} \\mathrm{Sh} + \\mathrm{HR} \\\\\n",
       "\\mathrm{Sh1} &\\xrightarrow{p7} \\mathrm{Sh1} + \\mathrm{HR1} \\\\\n",
       "\\mathrm{Sh2} &\\xrightarrow{p19} \\mathrm{Sh2} + \\mathrm{HR2} \\\\\n",
       "\\mathrm{Sp} &\\xrightarrow{k19} \\mathrm{Sp} + \\mathrm{P} \\\\\n",
       "\\mathrm{Sp2} &\\xrightarrow{p37} \\mathrm{Sp2} + \\mathrm{P2} \\\\\n",
       "\\mathrm{Sb} &\\xrightarrow{k28} \\mathrm{Sb} + \\mathrm{Rb} \\\\\n",
       "\\mathrm{Sb1} &\\xrightarrow{p9} \\mathrm{Sb1} + \\mathrm{Rb1} \\\\\n",
       "\\mathrm{Sr} &\\xrightarrow{k2} \\varnothing \\\\\n",
       "\\mathrm{Sr2} &\\xrightarrow{p32} \\varnothing \\\\\n",
       "\\mathrm{Sh} &\\xrightarrow{k10} \\varnothing \\\\\n",
       "\\mathrm{Sh1} &\\xrightarrow{p3} \\varnothing \\\\\n",
       "\\mathrm{Sh2} &\\xrightarrow{p18} \\varnothing \\\\\n",
       "\\mathrm{Sp} &\\xrightarrow{k13} \\varnothing \\\\\n",
       "\\mathrm{Sp2} &\\xrightarrow{p31} \\varnothing \\\\\n",
       "\\mathrm{Sb} &\\xrightarrow{k27} \\varnothing \\\\\n",
       "\\mathrm{Sb1} &\\xrightarrow{p2} \\varnothing \\\\\n",
       "\\mathrm{R} + \\mathrm{CL} &\\xrightarrow{k3} \\mathrm{R} + \\mathrm{Cf} \\\\\n",
       "\\mathrm{R2} + \\mathrm{CL2} &\\xrightarrow{p34} \\mathrm{R2} + \\mathrm{Cf2} \\\\\n",
       "\\mathrm{Rb} + \\mathrm{CH} &\\xrightarrow{k26} \\mathrm{Rb} + \\mathrm{Cf} \\\\\n",
       "\\mathrm{Rb1} + \\mathrm{CH1} &\\xrightarrow{p25} \\mathrm{Rb1} + \\mathrm{Cf1} \\\\\n",
       "\\mathrm{R} &\\xrightarrow{k11} \\varnothing \\\\\n",
       "\\mathrm{R2} &\\xrightarrow{p35} \\varnothing \\\\\n",
       "\\mathrm{Rb} &\\xrightarrow{k29} \\varnothing \\\\\n",
       "\\mathrm{Rb1} &\\xrightarrow{p10} \\varnothing \\\\\n",
       "\\mathrm{P} + \\mathrm{R} &\\xrightarrow{k14} \\mathrm{P} \\\\\n",
       "\\mathrm{P} &\\xrightarrow{k16} \\varnothing \\\\\n",
       "\\mathrm{P2} + \\mathrm{R2} &\\xrightarrow{p39} \\mathrm{P2} \\\\\n",
       "\\mathrm{P2} &\\xrightarrow{p38} \\varnothing \\\\\n",
       "\\mathrm{Cf} &\\xrightarrow{k4} \\mathrm{Cp} \\\\\n",
       "\\mathrm{Cf1} &\\xrightarrow{p4} \\mathrm{Cp1} \\\\\n",
       "\\mathrm{Cf2} &\\xrightarrow{p36} \\mathrm{Cp2} \\\\\n",
       "\\mathrm{Cp1} &\\xrightarrow{p11} \\mathrm{CO} \\\\\n",
       "\\mathrm{Cp} &\\xrightleftharpoons[k6]{k5} \\mathrm{Ce} \\\\\n",
       "\\mathrm{Cp1} &\\xrightleftharpoons[p6]{p5} \\mathrm{Ce1} \\\\\n",
       "\\mathrm{Cp2} &\\xrightleftharpoons[p29]{p28} \\mathrm{Ce2} \\\\\n",
       "\\mathrm{Ce} &\\xrightleftharpoons[k8]{k7} \\mathrm{E} \\\\\n",
       "\\mathrm{Ce1} &\\xrightleftharpoons[p17]{p16} \\mathrm{E1} \\\\\n",
       "\\varnothing &\\xrightarrow{\\alpha} \\mathrm{H} \\\\\n",
       "\\varnothing &\\xrightarrow{\\omega} \\mathrm{H1} \\\\\n",
       "\\varnothing &\\xrightarrow{\\delta} \\mathrm{H2} \\\\\n",
       "\\mathrm{H} + \\mathrm{HR} &\\xrightarrow{k9} \\mathrm{HR} + \\mathrm{Ce} \\\\\n",
       "\\mathrm{H1} + \\mathrm{HR1} &\\xrightarrow{p12} \\mathrm{HR1} + \\mathrm{Ce1} \\\\\n",
       "\\mathrm{H2} + \\mathrm{HR2} &\\xrightarrow{p21} \\mathrm{HR2} + \\mathrm{Ce2} \\\\\n",
       "\\mathrm{Ce} + \\mathrm{HR} &\\xrightarrow{k15} \\mathrm{Ce} \\\\\n",
       "\\mathrm{Ce2} + \\mathrm{HR2} &\\xrightarrow{p20} \\mathrm{Ce2} \\\\\n",
       "\\mathrm{Cp} + \\mathrm{CO} &\\xrightarrow{k12} \\mathrm{Cg} \\\\\n",
       "\\mathrm{Ce} &\\xrightarrow{k21} \\varnothing \\\\\n",
       "\\mathrm{Ce1} &\\xrightarrow{p15} \\varnothing \\\\\n",
       "\\mathrm{Ce2} &\\xrightarrow{p13} \\varnothing \\\\\n",
       "\\mathrm{Ce} + \\mathrm{Cg} &\\xrightarrow{k22} \\mathrm{B} \\\\\n",
       "\\mathrm{B} &\\xrightarrow{k24} \\varnothing  \n",
       " \\end{align*}\n",
       " $$"
      ],
      "text/plain": [
       "\u001b[0m\u001b[1mModel ##ReactionSystem#252\u001b[22m\n",
       "\u001b[0m\u001b[1mUnknowns (45):\u001b[22m\n",
       "  Sci(t)\n",
       "  Sci1(t)\n",
       "  Sci2(t)\n",
       "  Ce(t)\n",
       "⋮\n",
       "\u001b[0m\u001b[1mParameters (70):\u001b[22m\n",
       "  μ\n",
       "  φ\n",
       "  β\n",
       "  θ\n",
       "⋮"
      ]
     },
     "metadata": {},
     "output_type": "display_data"
    }
   ],
   "source": [
    "# Include relevant files\n",
    "include(\"generate_subnet_files.jl\")\n",
    "include(\"independent_decomposition.jl\")\n",
    "include(\"Retina.jl\") # ensure the reaction system name and the file name are the same\n"
   ]
  },
  {
   "cell_type": "code",
   "execution_count": null,
   "id": "d2326f02",
   "metadata": {},
   "outputs": [
    {
     "data": {
      "text/plain": [
       "27"
      ]
     },
     "metadata": {},
     "output_type": "display_data"
    },
    {
     "name": "stdout",
     "output_type": "stream",
     "text": [
      "A finer network decomposition exists\n",
      "The number of independent subnetworks is:\n",
      "Subnetwork 1: [1, 4, 7]\n",
      "Subnetwork 2: [2, 5, 8]\n",
      "Subnetwork 3: [3, 6, 9]\n",
      "Subnetwork 4: [10, 22, 24, 27, 29]\n",
      "Subnetwork 5: [11, 25, 30]\n",
      "Subnetwork 6: [12, 23, 26, 28]\n",
      "Subnetwork 7: [13, 35, 39]\n",
      "Subnetwork 8: [14, 36, 41]\n",
      "Subnetwork 9: [15, 63]\n",
      "Subnetwork 10: [16]\n",
      "Subnetwork 11: [17, 64]\n",
      "Subnetwork 12: [18, 40]\n",
      "Subnetwork 13: [19, 42]\n",
      "Subnetwork 14: [20, 37]\n",
      "Subnetwork 15: [21, 38]\n",
      "Subnetwork 16: [31]\n",
      "Subnetwork 17: [32]\n",
      "Subnetwork 18: [33]\n",
      "Subnetwork 19: [34]\n",
      "Subnetwork 20: [43]\n",
      "Subnetwork 21: [44]\n",
      "Subnetwork 22: [45]\n",
      "Subnetwork 23: [46, 47, 49, 57, 58, 60, 61, 65, 69, 70, 48, 50, 66, 67]\n",
      "Subnetwork 24: [51, 52]\n",
      "Subnetwork 25: [53, 54]\n",
      "Subnetwork 26: [55, 56]\n",
      "Subnetwork 27: [59, 62, 68]\n"
     ]
    }
   ],
   "source": [
    "# Run the decomposition and generate the subnetworks\n",
    "generate_subnet_files(:Retina) # this function takes input (:reactionsystem_name)"
   ]
  },
  {
   "cell_type": "code",
   "execution_count": null,
   "id": "9c0694c5",
   "metadata": {},
   "outputs": [
    {
     "data": {
      "text/latex": [
       "$$ \\begin{align*}\n",
       "\\varnothing &\\xrightarrow{\\mu} \\mathrm{Sci} \\\\\n",
       "\\mathrm{Ce} &\\xrightarrow{\\theta} \\mathrm{Ce} + \\mathrm{C} \\\\\n",
       "\\mathrm{Sci} + \\mathrm{C} &\\xrightarrow{\\eta} \\varnothing  \n",
       " \\end{align*}\n",
       " $$"
      ],
      "text/plain": [
       "\u001b[0m\u001b[1mModel subnet\u001b[22m\n",
       "\u001b[0m\u001b[1mUnknowns (3):\u001b[22m\n",
       "  Sci(t)\n",
       "  Ce(t)\n",
       "  C(t)\n",
       "\u001b[0m\u001b[1mParameters (3):\u001b[22m\n",
       "  μ\n",
       "  θ\n",
       "  η"
      ]
     },
     "metadata": {},
     "output_type": "display_data"
    }
   ],
   "source": [
    "# Begin analysis on subnetworks\n",
    "include(\"Retina_SN1.jl\") "
   ]
  },
  {
   "cell_type": "code",
   "execution_count": null,
   "id": "0eeb1d99",
   "metadata": {},
   "outputs": [
    {
     "data": {
      "text/plain": [
       "1"
      ]
     },
     "metadata": {},
     "output_type": "display_data"
    }
   ],
   "source": [
    "# Compute deficiency of subnetwork 1\n",
    "deficiency(Retina_SN1)"
   ]
  },
  {
   "cell_type": "code",
   "execution_count": 14,
   "id": "2d79927b",
   "metadata": {},
   "outputs": [
    {
     "data": {
      "text/plain": [
       "(Catalyst.ReactionComplex{Int64}[[], [Catalyst.ReactionComplexElement{Int64}(1, 1)], [Catalyst.ReactionComplexElement{Int64}(2, 1)], [Catalyst.ReactionComplexElement{Int64}(2, 1), Catalyst.ReactionComplexElement{Int64}(3, 1)], [Catalyst.ReactionComplexElement{Int64}(1, 1), Catalyst.ReactionComplexElement{Int64}(3, 1)]], [-1 0 1; 1 0 0; … ; 0 1 0; 0 0 -1])"
      ]
     },
     "metadata": {},
     "output_type": "display_data"
    }
   ],
   "source": [
    "complexes = reactioncomplexes(Retina_SN1)\n",
    "complexes"
   ]
  }
 ],
 "metadata": {
  "kernelspec": {
   "display_name": "Julia 1.10.4",
   "language": "julia",
   "name": "julia-1.10"
  },
  "language_info": {
   "file_extension": ".jl",
   "mimetype": "application/julia",
   "name": "julia",
   "version": "1.10.4"
  }
 },
 "nbformat": 4,
 "nbformat_minor": 5
}
